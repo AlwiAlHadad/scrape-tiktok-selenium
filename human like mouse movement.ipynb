{
 "cells": [
  {
   "cell_type": "code",
   "execution_count": 1,
   "metadata": {},
   "outputs": [],
   "source": [
    "import pandas as pd\n",
    "import numpy as np\n",
    "import matplotlib.pylab as plt\n",
    "import requests\n",
    "import shutil\n",
    "import bs4\n",
    "from selenium import webdriver\n",
    "from selenium.webdriver import ActionChains\n",
    "from selenium.webdriver.common.by import By\n",
    "import cv2\n",
    "import time"
   ]
  },
  {
   "cell_type": "code",
   "execution_count": 2,
   "metadata": {},
   "outputs": [
    {
     "data": {
      "image/png": "[encoded data removed]",
      "text/plain": [
       "<Figure size 640x480 with 1 Axes>"
      ]
     },
     "metadata": {},
     "output_type": "display_data"
    }
   ],
   "source": [
    "#read img\n",
    "img = cv2.imread('captcha_img.jpeg')\n",
    "img_piece = cv2.imread('captcha_piece.jpeg')\n",
    "\n",
    "#CONTOURS FUNCTION\n",
    "def bin_img(image):\n",
    "    img = cv2.imread(image)\n",
    "    img_gray = cv2.cvtColor(img, cv2.COLOR_BGR2GRAY)\n",
    "\n",
    "    binary_img = cv2.threshold(img_gray, 242, 255, cv2.THRESH_BINARY_INV)[1]\n",
    "    plt.imshow(binary_img, cmap='gray')\n",
    "\n",
    "    return binary_img\n",
    "\n",
    "capt = bin_img('captcha_img.jpeg')\n",
    "piece = bin_img('captcha_piece.jpeg')\n",
    "\n",
    "#matching shape\n",
    "match = cv2.matchTemplate(capt, piece, cv2.TM_CCOEFF_NORMED)\n",
    "\n",
    "#check x, y in maximum value\n",
    "min_val, max_val, min_loc, max_loc = cv2.minMaxLoc(match)\n",
    "\n",
    "#width and height\n",
    "w = piece.shape[1]\n",
    "h = piece.shape[0]\n",
    "\n"
   ]
  },
  {
   "cell_type": "code",
   "execution_count": null,
   "metadata": {},
   "outputs": [],
   "source": [
    "#drag slider ke x yang tepat\n",
    "slide = driver.find_element(By.XPATH, \"//*[@id='secsdk-captcha-drag-wrapper']/div[2]\")\n",
    "move = webdriver.ActionChains(driver)\n",
    "\n",
    "move.click_and_hold(slide).move_by_offset((85*max_loc[0])/138, 0).release().perform()\n"
   ]
  },
  {
   "cell_type": "code",
   "execution_count": null,
   "metadata": {},
   "outputs": [],
   "source": [
    "def move_to_area(x, y, width, height, deviation, speed):\n",
    "    '''\n",
    "    Arguments same as pyautogui.locateAllOnScreen format: x and y are top left corner\n",
    "    \n",
    "    This advanced function saves the xdotool commands to a temporary file\n",
    "    'mouse.sh' in ./tmp/ then executes them from the shell to give clean curves\n",
    "    '''\n",
    "    \n",
    "    init_pos = pyautogui.position()\n",
    "    \n",
    "    x_coord = x + randint(0, width)\n",
    "    y_coord = y + randint(0, height)\n",
    "    \n",
    "    move(mouse_bez(init_pos, (x_coord, y_coord), deviation, speed))\n",
    "\n",
    "\n",
    "move_to_area()"
   ]
  }
 ],
 "metadata": {
  "kernelspec": {
   "display_name": "base",
   "language": "python",
   "name": "python3"
  },
  "language_info": {
   "codemirror_mode": {
    "name": "ipython",
    "version": 3
   },
   "file_extension": ".py",
   "mimetype": "text/x-python",
   "name": "python",
   "nbconvert_exporter": "python",
   "pygments_lexer": "ipython3",
   "version": "3.9.13"
  },
  "orig_nbformat": 4
 },
 "nbformat": 4,
 "nbformat_minor": 2
}
