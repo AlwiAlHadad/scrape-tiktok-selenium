{
 "cells": [
  {
   "cell_type": "code",
   "execution_count": 1,
   "metadata": {},
   "outputs": [],
   "source": [
    "import pandas as pd\n",
    "import numpy as np\n",
    "import matplotlib.pylab as plt\n",
    "import requests\n",
    "import shutil\n",
    "import bs4\n",
    "from selenium import webdriver\n",
    "from selenium.webdriver import ActionChains\n",
    "from selenium.webdriver.common.by import By\n",
    "import pyautogui\n",
    "import cv2\n",
    "import time"
   ]
  },
  {
   "cell_type": "code",
   "execution_count": null,
   "metadata": {},
   "outputs": [],
   "source": [
    "#read image\n",
    "img = cv2.imread('captcha_img.jpeg')"
   ]
  },
  {
   "cell_type": "code",
   "execution_count": 2,
   "metadata": {},
   "outputs": [],
   "source": [
    "#CONTOURS FUNCTION\n",
    "def bin_img(image):\n",
    "    img = cv2.imread(image)\n",
    "    img_gray = cv2.cvtColor(img, cv2.COLOR_BGR2GRAY)\n",
    "\n",
    "    binary_img = cv2.threshold(img_gray, 242, 255, cv2.THRESH_BINARY_INV)[1]\n",
    "    plt.imshow(binary_img, cmap='gray')\n",
    "\n",
    "    return binary_img"
   ]
  },
  {
   "cell_type": "code",
   "execution_count": 3,
   "metadata": {},
   "outputs": [
    {
     "data": {
      "image/png": "[encoded data removed]",
      "text/plain": [
       "<Figure size 640x480 with 1 Axes>"
      ]
     },
     "metadata": {},
     "output_type": "display_data"
    }
   ],
   "source": [
    "capt = bin_img('captcha_img.jpeg')"
   ]
  },
  {
   "cell_type": "code",
   "execution_count": 4,
   "metadata": {},
   "outputs": [
    {
     "data": {
      "image/png": "[encoded data removed]",
      "text/plain": [
       "<Figure size 640x480 with 1 Axes>"
      ]
     },
     "metadata": {},
     "output_type": "display_data"
    }
   ],
   "source": [
    "piece = bin_img('captcha_piece.jpeg')"
   ]
  },
  {
   "cell_type": "code",
   "execution_count": 5,
   "metadata": {},
   "outputs": [],
   "source": [
    "#match 2 image\n",
    "match = cv2.matchTemplate(capt, piece, cv2.TM_CCOEFF_NORMED)\n",
    "\n",
    "#result\n",
    "cv2.imshow('result', match)\n",
    "cv2.waitKey()\n",
    "cv2.destroyAllWindows()\n",
    "\n",
    "#check x, y\n",
    "min_val, max_val, min_loc, max_loc = cv2.minMaxLoc(match)\n",
    "\n",
    "#x, y coordinate\n",
    "print(max_loc)\n",
    "print(max_val)\n",
    "\n",
    "#width and height\n",
    "w = piece.shape[1]\n",
    "h = piece.shape[0]"
   ]
  },
  {
   "cell_type": "code",
   "execution_count": 9,
   "metadata": {},
   "outputs": [
    {
     "data": {
      "text/plain": [
       "array([[[168, 100,   1],\n",
       "        [168, 100,   1],\n",
       "        [168, 100,   1],\n",
       "        ...,\n",
       "        [199, 123,  23],\n",
       "        [199, 123,  23],\n",
       "        [199, 123,  23]],\n",
       "\n",
       "       [[168, 100,   1],\n",
       "        [168, 100,   1],\n",
       "        [168, 100,   1],\n",
       "        ...,\n",
       "        [203, 127,  27],\n",
       "        [202, 126,  26],\n",
       "        [202, 126,  26]],\n",
       "\n",
       "       [[168, 100,   1],\n",
       "        [168, 100,   1],\n",
       "        [168, 100,   1],\n",
       "        ...,\n",
       "        [207, 130,  33],\n",
       "        [206, 129,  32],\n",
       "        [206, 129,  32]],\n",
       "\n",
       "       ...,\n",
       "\n",
       "       [[ 57,  48,  44],\n",
       "        [ 54,  48,  43],\n",
       "        [ 56,  47,  43],\n",
       "        ...,\n",
       "        [117, 105, 103],\n",
       "        [117, 105, 103],\n",
       "        [117, 105, 103]],\n",
       "\n",
       "       [[ 72,  65,  62],\n",
       "        [ 69,  64,  61],\n",
       "        [ 71,  64,  61],\n",
       "        ...,\n",
       "        [ 88,  80,  80],\n",
       "        [ 90,  82,  82],\n",
       "        [ 92,  84,  84]],\n",
       "\n",
       "       [[ 74,  69,  66],\n",
       "        [ 73,  68,  65],\n",
       "        [ 72,  67,  64],\n",
       "        ...,\n",
       "        [108, 102, 103],\n",
       "        [108, 102, 103],\n",
       "        [108, 102, 103]]], dtype=uint8)"
      ]
     },
     "execution_count": 9,
     "metadata": {},
     "output_type": "execute_result"
    }
   ],
   "source": [
    "#make rectangle in x, y coordinate\n",
    "cv2.rectangle(img, max_loc, (max_loc[0]+w, max_loc[1]+h), (0, 255, 255), 2)"
   ]
  },
  {
   "cell_type": "code",
   "execution_count": 10,
   "metadata": {},
   "outputs": [],
   "source": [
    "#show the reult\n",
    "cv2.imshow('jawab', img)\n",
    "cv2.waitKey()\n",
    "cv2.destroyAllWindows()"
   ]
  }
 ],
 "metadata": {
  "kernelspec": {
   "display_name": "base",
   "language": "python",
   "name": "python3"
  },
  "language_info": {
   "codemirror_mode": {
    "name": "ipython",
    "version": 3
   },
   "file_extension": ".py",
   "mimetype": "text/x-python",
   "name": "python",
   "nbconvert_exporter": "python",
   "pygments_lexer": "ipython3",
   "version": "3.9.13"
  },
  "orig_nbformat": 4
 },
 "nbformat": 4,
 "nbformat_minor": 2
}
