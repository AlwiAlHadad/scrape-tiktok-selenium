{
 "cells": [
  {
   "cell_type": "code",
   "execution_count": 1,
   "metadata": {},
   "outputs": [],
   "source": [
    "import pandas as pd\n",
    "import numpy as np\n",
    "import matplotlib.pylab as plt\n",
    "import requests\n",
    "import shutil\n",
    "import bs4\n",
    "from selenium import webdriver\n",
    "from selenium.webdriver import ActionChains\n",
    "from selenium.webdriver.common.by import By\n",
    "import cv2\n",
    "import time"
   ]
  },
  {
   "cell_type": "code",
   "execution_count": 95,
   "metadata": {},
   "outputs": [],
   "source": [
    "#MENCOBA SHAPE MATCHING\n",
    "def bin_img(image):\n",
    "    img = cv2.imread(image)\n",
    "    img_gray = cv2.cvtColor(img, cv2.COLOR_BGR2GRAY)\n",
    "\n",
    "    binary_img = cv2.threshold(img_gray, 242, 255, cv2.THRESH_BINARY_INV)[1]\n",
    "    plt.imshow(binary_img, cmap='gray')\n",
    "\n",
    "    return binary_img"
   ]
  },
  {
   "cell_type": "code",
   "execution_count": 96,
   "metadata": {},
   "outputs": [
    {
     "data": {
      "image/png": "[encoded data removed]",
      "text/plain": [
       "<Figure size 640x480 with 1 Axes>"
      ]
     },
     "metadata": {},
     "output_type": "display_data"
    }
   ],
   "source": [
    "capt = bin_img('captcha_img.jpeg')"
   ]
  },
  {
   "cell_type": "code",
   "execution_count": 97,
   "metadata": {},
   "outputs": [
    {
     "data": {
      "image/png": "[encoded data removed]",
      "text/plain": [
       "<Figure size 640x480 with 1 Axes>"
      ]
     },
     "metadata": {},
     "output_type": "display_data"
    }
   ],
   "source": [
    "piece = bin_img('captcha_piece.jpeg')"
   ]
  },
  {
   "cell_type": "code",
   "execution_count": 98,
   "metadata": {},
   "outputs": [],
   "source": [
    "match = cv2.matchTemplate(capt, piece, cv2.TM_CCOEFF_NORMED)\n",
    "\n",
    "#hasil\n",
    "cv2.imshow('result', match)\n",
    "cv2.waitKey()\n",
    "cv2.destroyAllWindows()\n",
    "\n",
    "#cek x, y\n",
    "min_val, max_val, min_loc, max_loc = cv2.minMaxLoc(match)"
   ]
  },
  {
   "cell_type": "code",
   "execution_count": 99,
   "metadata": {},
   "outputs": [
    {
     "name": "stdout",
     "output_type": "stream",
     "text": [
      "(184, 41)\n",
      "0.9250076413154602\n"
     ]
    }
   ],
   "source": [
    "print(max_loc)\n",
    "print(max_val)"
   ]
  },
  {
   "cell_type": "code",
   "execution_count": 100,
   "metadata": {},
   "outputs": [],
   "source": [
    "w = piece.shape[1]\n",
    "h = piece.shape[0]"
   ]
  },
  {
   "cell_type": "code",
   "execution_count": 101,
   "metadata": {},
   "outputs": [],
   "source": [
    "img = cv2.imread('captcha_img.jpeg')"
   ]
  },
  {
   "cell_type": "code",
   "execution_count": 102,
   "metadata": {},
   "outputs": [
    {
     "data": {
      "text/plain": [
       "array([[[ 47, 119, 153],\n",
       "        [ 50, 122, 156],\n",
       "        [ 54, 128, 162],\n",
       "        ...,\n",
       "        [ 60, 135, 161],\n",
       "        [ 59, 134, 160],\n",
       "        [ 58, 133, 159]],\n",
       "\n",
       "       [[ 50, 122, 156],\n",
       "        [ 53, 125, 159],\n",
       "        [ 56, 130, 164],\n",
       "        ...,\n",
       "        [ 62, 137, 163],\n",
       "        [ 61, 136, 162],\n",
       "        [ 61, 136, 162]],\n",
       "\n",
       "       [[ 53, 126, 158],\n",
       "        [ 56, 129, 161],\n",
       "        [ 58, 133, 165],\n",
       "        ...,\n",
       "        [ 65, 140, 166],\n",
       "        [ 65, 140, 166],\n",
       "        [ 65, 140, 166]],\n",
       "\n",
       "       ...,\n",
       "\n",
       "       [[ 34,  81,  65],\n",
       "        [  0,  31,  14],\n",
       "        [  4,  66,  48],\n",
       "        ...,\n",
       "        [ 13, 135, 111],\n",
       "        [ 10, 132, 108],\n",
       "        [  0, 122,  98]],\n",
       "\n",
       "       [[ 54,  99,  83],\n",
       "        [  0,  16,   0],\n",
       "        [  0,  37,  19],\n",
       "        ...,\n",
       "        [ 11, 131, 107],\n",
       "        [ 11, 131, 107],\n",
       "        [  4, 124, 100]],\n",
       "\n",
       "       [[ 44,  89,  73],\n",
       "        [  9,  58,  42],\n",
       "        [  0,  59,  41],\n",
       "        ...,\n",
       "        [  0, 118,  94],\n",
       "        [  0, 116,  92],\n",
       "        [  0, 110,  86]]], dtype=uint8)"
      ]
     },
     "execution_count": 102,
     "metadata": {},
     "output_type": "execute_result"
    }
   ],
   "source": [
    "cv2.rectangle(img, max_loc, (max_loc[0]+w, max_loc[1]+h), (0, 255, 255), 2)"
   ]
  },
  {
   "cell_type": "code",
   "execution_count": 108,
   "metadata": {},
   "outputs": [],
   "source": [
    "cv2.imshow('jawab', img)\n",
    "cv2.waitKey()\n",
    "cv2.destroyAllWindows()"
   ]
  },
  {
   "cell_type": "code",
   "execution_count": 106,
   "metadata": {},
   "outputs": [
    {
     "data": {
      "text/plain": [
       "184"
      ]
     },
     "execution_count": 106,
     "metadata": {},
     "output_type": "execute_result"
    }
   ],
   "source": [
    "max_loc[0]"
   ]
  }
 ],
 "metadata": {
  "kernelspec": {
   "display_name": "base",
   "language": "python",
   "name": "python3"
  },
  "language_info": {
   "codemirror_mode": {
    "name": "ipython",
    "version": 3
   },
   "file_extension": ".py",
   "mimetype": "text/x-python",
   "name": "python",
   "nbconvert_exporter": "python",
   "pygments_lexer": "ipython3",
   "version": "3.9.13"
  },
  "orig_nbformat": 4
 },
 "nbformat": 4,
 "nbformat_minor": 2
}
