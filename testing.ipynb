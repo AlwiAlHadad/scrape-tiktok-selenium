{
 "cells": [
  {
   "cell_type": "code",
   "execution_count": 13,
   "id": "0f2392ea-c30e-4da6-af1f-57ed57300392",
   "metadata": {},
   "outputs": [],
   "source": [
    "import pandas as pd\n",
    "import numpy as np\n",
    "import matplotlib.pylab as plt\n",
    "import requests\n",
    "import shutil\n",
    "import bs4\n",
    "from selenium import webdriver\n",
    "from selenium.webdriver import ActionChains\n",
    "from selenium.webdriver.common.by import By\n",
    "import pyautogui\n",
    "import cv2\n",
    "import time"
   ]
  },
  {
   "cell_type": "code",
   "execution_count": 52,
   "id": "2d95a454-1593-46e8-aa0c-715e04c18aea",
   "metadata": {},
   "outputs": [
    {
     "name": "stderr",
     "output_type": "stream",
     "text": [
      "C:\\Users\\Public\\Documents\\iSkysoft\\CreatorTemp\\ipykernel_11868\\759455969.py:2: DeprecationWarning: executable_path has been deprecated, please pass in a Service object\n",
      "  driver = webdriver.Chrome(PATH)\n"
     ]
    }
   ],
   "source": [
    "PATH = \"C:\\chromedriver_win32\\chromedriver.exe\"\n",
    "driver = webdriver.Chrome(PATH)\n",
    "\n",
    "\n",
    "\n",
    "#url that you want to scrape\n",
    "link = 'https://www.tiktok.com/@dogcat_0327/video/7235928874238954794'\n",
    "\n",
    "#open and maximize window\n",
    "driver.get(link)\n",
    "driver.maximize_window()\n",
    "\n",
    "time.sleep(6) #nanti diganti tunggunya sampai captha nya nge load\n",
    "\n",
    "#CAPTCHA SOLVER\n",
    "#download image function\n",
    "def down(image, xpath):\n",
    "    #get link image\n",
    "    captcha = driver.find_element (By.XPATH, xpath)\n",
    "    src = captcha.get_attribute('src')\n",
    "\n",
    "    #download image\n",
    "    response = requests.get(src, stream=True)\n",
    "    with open(image, 'wb') as out_file:\n",
    "        shutil.copyfileobj(response.raw, out_file)\n",
    "    del response\n",
    "\n",
    "#download captcha image\n",
    "down('captcha_img.jpeg', \"//*[@id='captcha-verify-image']\")\n",
    "#download piece of captcha image\n",
    "down('captcha_piece.jpeg', \"//*[@id='tiktok-verify-ele']/div/div[2]/img[2]\")\n",
    "\n",
    "time.sleep(2)\n",
    "\n",
    "#read img\n",
    "img = cv2.imread('captcha_img.jpeg')\n",
    "img_piece = cv2.imread('captcha_piece.jpeg')\n",
    "\n",
    "#CONTOURS FUNCTION\n",
    "def bin_img(image):\n",
    "    img = cv2.imread(image)\n",
    "    img_gray = cv2.cvtColor(img, cv2.COLOR_BGR2GRAY)\n",
    "\n",
    "    binary_img = cv2.threshold(img_gray, 242, 255, cv2.THRESH_BINARY_INV)[1]\n",
    "\n",
    "    return binary_img\n",
    "\n",
    "capt = bin_img('captcha_img.jpeg')\n",
    "piece = bin_img('captcha_piece.jpeg')\n",
    "\n",
    "#matching shape\n",
    "match = cv2.matchTemplate(capt, piece, cv2.TM_CCOEFF_NORMED)\n",
    "\n",
    "#check x, y in maximum value\n",
    "min_val, max_val, min_loc, max_loc = cv2.minMaxLoc(match)\n",
    "\n",
    "#width and height\n",
    "w = piece.shape[1]\n",
    "h = piece.shape[0]\n",
    "\n",
    "#drag slider with mouse movement\n",
    "time.sleep(2)\n",
    "\n",
    "#gerakin mouse ke slider button\n",
    "pyautogui.moveTo(782, 722, duration=1.5)\n",
    "\n",
    "#drag mouse ke puzzle pece yang benar\n",
    "pyautogui.dragRel((0.78*max_loc[0]), 0, button='left', duration=2)\n",
    "\n",
    "time.sleep(5)\n",
    "\n",
    "#exit login bar\n",
    "ext = driver.find_element(By.XPATH, '//*[@id=\"login-modal\"]/div[2]')\n",
    "ext.click()\n",
    "\n",
    "time.sleep(2)\n",
    "\n",
    "#open profile\n",
    "#profile = driver.find_element(By.XPATH, '//*[@id=\"main-content-video_detail\"]/div/div[2]/div[1]/div[2]/div/a[2]/span[1]')\n",
    "#profile.click()\n",
    "\n",
    "#time.sleep(2)"
   ]
  },
  {
   "attachments": {},
   "cell_type": "markdown",
   "id": "6e351283",
   "metadata": {},
   "source": [
    "### 2nd step testing"
   ]
  },
  {
   "cell_type": "code",
   "execution_count": 53,
   "id": "6365a778",
   "metadata": {},
   "outputs": [
    {
     "name": "stdout",
     "output_type": "stream",
     "text": [
      "720\n"
     ]
    }
   ],
   "source": [
    "#open profile\n",
    "profile = driver.find_element(By.XPATH, '//*[@id=\"main-content-video_detail\"]/div/div[2]/div[1]/div[2]/div/a[2]/span[1]')\n",
    "profile.click()\n",
    "\n",
    "time.sleep(2)\n",
    "\n",
    "#scroll to the bottom\n",
    "previous_height = driver.execute_script('return document.body.scrollHeight')\n",
    "\n",
    "while True:\n",
    "    driver.execute_script('window.scrollTo(0, document.body.scrollHeight)')\n",
    "    time.sleep(3)\n",
    "    new_height = driver.execute_script('return document.body.scrollHeight')\n",
    "    \n",
    "    if new_height == previous_height:\n",
    "        break\n",
    "    previous_height = new_height\n",
    "\n",
    "#scroll to the top\n",
    "driver.execute_script('window.scrollTo(0, 0)')\n",
    "\n",
    "#take the html source\n",
    "page_html = driver.page_source\n",
    "page_soup = bs4.BeautifulSoup(page_html, 'html.parser')\n",
    "#find all content\n",
    "content = page_soup.find_all('div', {'class':\"tiktok-x6y88p-DivItemContainerV2 e19c29qe7\"})\n",
    "\n",
    "len_content = len(content)\n",
    "print(len_content)"
   ]
  },
  {
   "cell_type": "code",
   "execution_count": 29,
   "id": "4d6a6ed9",
   "metadata": {},
   "outputs": [
    {
     "name": "stdout",
     "output_type": "stream",
     "text": [
      "https://www.tiktok.com/@dogcat_0327/video/7236027979514596654\n"
     ]
    }
   ],
   "source": [
    "time.sleep(2)\n",
    "\n",
    "xpath_url = '//*[@id=\"main-content-others_homepage\"]/div/div[2]/div[2]/div/div[1]/div[1]/div/div/a'\n",
    "\n",
    "#grab the url of the content\n",
    "url = driver.find_element(By.XPATH, xpath_url)\n",
    "get_url = url.get_attribute('href')\n",
    "\n",
    "print(get_url)\n",
    "\n",
    "\n",
    "#https://www.tiktok.com/@dogcat_0327/video/7207585274312871211"
   ]
  },
  {
   "cell_type": "code",
   "execution_count": 54,
   "id": "8d5365ea",
   "metadata": {},
   "outputs": [],
   "source": [
    "#liat link didalem setiap content\n",
    "links = []\n",
    "for j in range(1, len_content+1):\n",
    "    xpath_url = f'//*[@id=\"main-content-others_homepage\"]/div/div[2]/div[2]/div/div[{j}]/div[1]/div/div/a'\n",
    "\n",
    "    #grab the url of the content\n",
    "    url = driver.find_element(By.XPATH, xpath_url)\n",
    "    get_url = url.get_attribute('href')\n",
    "\n",
    "    if get_url != link:\n",
    "        continue\n",
    "    #lakukan pencarian views dkk\n",
    "    \n",
    "\n",
    "    #lakukan adding info\n",
    "    links.append(get_url)\n",
    "    break"
   ]
  },
  {
   "cell_type": "code",
   "execution_count": 57,
   "id": "3874dcba",
   "metadata": {},
   "outputs": [
    {
     "name": "stdout",
     "output_type": "stream",
     "text": [
      "['https://www.tiktok.com/@dogcat_0327/video/7235928874238954794']\n",
      "https://www.tiktok.com/@dogcat_0327/video/7235928874238954794\n"
     ]
    }
   ],
   "source": [
    "print(links)\n",
    "print(link)"
   ]
  },
  {
   "attachments": {},
   "cell_type": "markdown",
   "id": "83718e76",
   "metadata": {},
   "source": [
    "# coret2an"
   ]
  },
  {
   "cell_type": "code",
   "execution_count": 20,
   "id": "58a8b6e0",
   "metadata": {},
   "outputs": [
    {
     "data": {
      "text/plain": [
       "'https://www.tiktok.com/@dndalstri._/video/7233570284572249370'"
      ]
     },
     "execution_count": 20,
     "metadata": {},
     "output_type": "execute_result"
    }
   ],
   "source": [
    "#untuk membersihkan link yg di profile sebelum disamakan dengan link yg kita punya\n",
    "c = 'https://www.tiktok.com/@dndalstri._/video/7233570284572249370?is_from_webapp=1&sender_device=pc&web_id=7205425525594031618'\n",
    "c[:c.find('?')]"
   ]
  }
 ],
 "metadata": {
  "kernelspec": {
   "display_name": "Python 3 (ipykernel)",
   "language": "python",
   "name": "python3"
  },
  "language_info": {
   "codemirror_mode": {
    "name": "ipython",
    "version": 3
   },
   "file_extension": ".py",
   "mimetype": "text/x-python",
   "name": "python",
   "nbconvert_exporter": "python",
   "pygments_lexer": "ipython3",
   "version": "3.9.13"
  }
 },
 "nbformat": 4,
 "nbformat_minor": 5
}
