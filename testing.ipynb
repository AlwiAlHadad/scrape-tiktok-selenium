{
 "cells": [
  {
   "cell_type": "code",
   "execution_count": 1,
   "id": "0f2392ea-c30e-4da6-af1f-57ed57300392",
   "metadata": {},
   "outputs": [],
   "source": [
    "import pandas as pd\n",
    "import numpy as np\n",
    "import matplotlib.pylab as plt\n",
    "import requests\n",
    "import shutil\n",
    "import bs4\n",
    "from selenium import webdriver\n",
    "from selenium.webdriver import ActionChains\n",
    "from selenium.webdriver.common.by import By\n",
    "import pyautogui\n",
    "import cv2\n",
    "import time"
   ]
  },
  {
   "cell_type": "code",
   "execution_count": 12,
   "id": "2d95a454-1593-46e8-aa0c-715e04c18aea",
   "metadata": {},
   "outputs": [
    {
     "name": "stderr",
     "output_type": "stream",
     "text": [
      "C:\\Users\\Public\\Documents\\iSkysoft\\CreatorTemp\\ipykernel_11868\\1819639429.py:2: DeprecationWarning: executable_path has been deprecated, please pass in a Service object\n",
      "  driver = webdriver.Chrome(PATH)\n"
     ]
    },
    {
     "data": {
      "image/png": "[encoded data removed]",
      "text/plain": [
       "<Figure size 640x480 with 1 Axes>"
      ]
     },
     "metadata": {},
     "output_type": "display_data"
    }
   ],
   "source": [
    "PATH = \"C:\\chromedriver_win32\\chromedriver.exe\"\n",
    "driver = webdriver.Chrome(PATH)\n",
    "\n",
    "\n",
    "\n",
    "#url that you want to scrape\n",
    "link = 'https://www.tiktok.com/@dogcat_0327/video/7207585274312871211'\n",
    "\n",
    "#open and maximize window\n",
    "driver.get(link)\n",
    "driver.maximize_window()\n",
    "\n",
    "time.sleep(6) #nanti diganti tunggunya sampai captha nya nge load\n",
    "\n",
    "#CAPTCHA SOLVER\n",
    "#download image function\n",
    "def down(image, xpath):\n",
    "    #ambil link image\n",
    "    captcha = driver.find_element (By.XPATH, xpath)\n",
    "    src = captcha.get_attribute('src')\n",
    "\n",
    "    #download image\n",
    "    response = requests.get(src, stream=True)\n",
    "    with open(image, 'wb') as out_file:\n",
    "        shutil.copyfileobj(response.raw, out_file)\n",
    "    del response\n",
    "\n",
    "#download captcha image\n",
    "down('captcha_img.jpeg', \"//*[@id='captcha-verify-image']\")\n",
    "#download piece of captcha image\n",
    "down('captcha_piece.jpeg', \"//*[@id='tiktok-verify-ele']/div/div[2]/img[2]\")\n",
    "\n",
    "time.sleep(2)\n",
    "\n",
    "#read img\n",
    "img = cv2.imread('captcha_img.jpeg')\n",
    "img_piece = cv2.imread('captcha_piece.jpeg')\n",
    "\n",
    "#CONTOURS FUNCTION\n",
    "def bin_img(image):\n",
    "    img = cv2.imread(image)\n",
    "    img_gray = cv2.cvtColor(img, cv2.COLOR_BGR2GRAY)\n",
    "\n",
    "    binary_img = cv2.threshold(img_gray, 242, 255, cv2.THRESH_BINARY_INV)[1]\n",
    "    plt.imshow(binary_img, cmap='gray')\n",
    "\n",
    "    return binary_img\n",
    "\n",
    "capt = bin_img('captcha_img.jpeg')\n",
    "piece = bin_img('captcha_piece.jpeg')\n",
    "\n",
    "#matching shape\n",
    "match = cv2.matchTemplate(capt, piece, cv2.TM_CCOEFF_NORMED)\n",
    "\n",
    "#check x, y in maximum value\n",
    "min_val, max_val, min_loc, max_loc = cv2.minMaxLoc(match)\n",
    "\n",
    "#width and height\n",
    "w = piece.shape[1]\n",
    "h = piece.shape[0]\n",
    "\n",
    "#drag slider with mouse movement\n",
    "time.sleep(2)\n",
    "\n",
    "#gerakin mouse ke slider button\n",
    "pyautogui.moveTo(782, 722, duration=1.5)\n",
    "\n",
    "#drag mouse ke puzzle pece yang benar\n",
    "pyautogui.dragRel((0.78*max_loc[0]), 0, button='left', duration=2)\n",
    "\n",
    "time.sleep(5)\n",
    "\n",
    "#exit login bar\n",
    "ext = driver.find_element(By.XPATH, '//*[@id=\"login-modal\"]/div[2]')\n",
    "ext.click()\n",
    "\n",
    "time.sleep(2)\n",
    "\n",
    "#open profile\n",
    "profile = driver.find_element(By.XPATH, '//*[@id=\"main-content-video_detail\"]/div/div[2]/div[1]/div[2]/div/a[2]/span[1]')\n",
    "profile.click()\n",
    "\n",
    "time.sleep(2)"
   ]
  },
  {
   "attachments": {},
   "cell_type": "markdown",
   "id": "83718e76",
   "metadata": {},
   "source": [
    "# coret2an"
   ]
  },
  {
   "cell_type": "code",
   "execution_count": 20,
   "id": "58a8b6e0",
   "metadata": {},
   "outputs": [
    {
     "data": {
      "text/plain": [
       "'https://www.tiktok.com/@dndalstri._/video/7233570284572249370'"
      ]
     },
     "execution_count": 20,
     "metadata": {},
     "output_type": "execute_result"
    }
   ],
   "source": [
    "#untuk membersihkan link yg di profile sebelum disamakan dengan link yg kita punya\n",
    "c = 'https://www.tiktok.com/@dndalstri._/video/7233570284572249370?is_from_webapp=1&sender_device=pc&web_id=7205425525594031618'\n",
    "c[:c.find('?')]"
   ]
  },
  {
   "cell_type": "code",
   "execution_count": 10,
   "id": "8843a216",
   "metadata": {},
   "outputs": [
    {
     "ename": "NoSuchElementException",
     "evalue": "Message: no such element: Unable to locate element: {\"method\":\"xpath\",\"selector\":\"//*[@id=\"login-modal\"]/div[2]\"}\n  (Session info: chrome=113.0.5672.127)\nStacktrace:\nBacktrace:\n\tGetHandleVerifier [0x00308893+48451]\n\t(No symbol) [0x0029B8A1]\n\t(No symbol) [0x001A5058]\n\t(No symbol) [0x001D0467]\n\t(No symbol) [0x001D069B]\n\t(No symbol) [0x001FDD92]\n\t(No symbol) [0x001EA304]\n\t(No symbol) [0x001FC482]\n\t(No symbol) [0x001EA0B6]\n\t(No symbol) [0x001C7E08]\n\t(No symbol) [0x001C8F2D]\n\tGetHandleVerifier [0x00568E3A+2540266]\n\tGetHandleVerifier [0x005A8959+2801161]\n\tGetHandleVerifier [0x005A295C+2776588]\n\tGetHandleVerifier [0x00392280+612144]\n\t(No symbol) [0x002A4F6C]\n\t(No symbol) [0x002A11D8]\n\t(No symbol) [0x002A12BB]\n\t(No symbol) [0x00294857]\n\tBaseThreadInitThunk [0x750F6BA9+25]\n\tRtlGetFullPathName_UEx [0x77318F9F+1215]\n\tRtlGetFullPathName_UEx [0x77318F6D+1165]\n\t(No symbol) [0x00000000]\n",
     "output_type": "error",
     "traceback": [
      "\u001b[1;31m---------------------------------------------------------------------------\u001b[0m",
      "\u001b[1;31mNoSuchElementException\u001b[0m                    Traceback (most recent call last)",
      "\u001b[1;32mC:\\Users\\Public\\Documents\\iSkysoft\\CreatorTemp\\ipykernel_11868\\2811711939.py\u001b[0m in \u001b[0;36m<module>\u001b[1;34m\u001b[0m\n\u001b[0;32m      8\u001b[0m \u001b[1;33m\u001b[0m\u001b[0m\n\u001b[0;32m      9\u001b[0m \u001b[1;31m#open profile\u001b[0m\u001b[1;33m\u001b[0m\u001b[1;33m\u001b[0m\u001b[0m\n\u001b[1;32m---> 10\u001b[1;33m \u001b[0melement\u001b[0m \u001b[1;33m=\u001b[0m \u001b[0mdriver\u001b[0m\u001b[1;33m.\u001b[0m\u001b[0mfind_element\u001b[0m\u001b[1;33m(\u001b[0m\u001b[0mBy\u001b[0m\u001b[1;33m.\u001b[0m\u001b[0mXPATH\u001b[0m\u001b[1;33m,\u001b[0m \u001b[1;34m'//*[@id=\"login-modal\"]/div[2]'\u001b[0m\u001b[1;33m)\u001b[0m\u001b[1;33m\u001b[0m\u001b[1;33m\u001b[0m\u001b[0m\n\u001b[0m\u001b[0;32m     11\u001b[0m \u001b[0melement\u001b[0m\u001b[1;33m.\u001b[0m\u001b[0mclick\u001b[0m\u001b[1;33m(\u001b[0m\u001b[1;33m)\u001b[0m\u001b[1;33m\u001b[0m\u001b[1;33m\u001b[0m\u001b[0m\n\u001b[0;32m     12\u001b[0m \u001b[1;33m\u001b[0m\u001b[0m\n",
      "\u001b[1;32mc:\\Users\\user\\anaconda3\\lib\\site-packages\\selenium\\webdriver\\remote\\webdriver.py\u001b[0m in \u001b[0;36mfind_element\u001b[1;34m(self, by, value)\u001b[0m\n\u001b[0;32m    829\u001b[0m             \u001b[0mvalue\u001b[0m \u001b[1;33m=\u001b[0m \u001b[1;34mf'[name=\"{value}\"]'\u001b[0m\u001b[1;33m\u001b[0m\u001b[1;33m\u001b[0m\u001b[0m\n\u001b[0;32m    830\u001b[0m \u001b[1;33m\u001b[0m\u001b[0m\n\u001b[1;32m--> 831\u001b[1;33m         \u001b[1;32mreturn\u001b[0m \u001b[0mself\u001b[0m\u001b[1;33m.\u001b[0m\u001b[0mexecute\u001b[0m\u001b[1;33m(\u001b[0m\u001b[0mCommand\u001b[0m\u001b[1;33m.\u001b[0m\u001b[0mFIND_ELEMENT\u001b[0m\u001b[1;33m,\u001b[0m \u001b[1;33m{\u001b[0m\u001b[1;34m\"using\"\u001b[0m\u001b[1;33m:\u001b[0m \u001b[0mby\u001b[0m\u001b[1;33m,\u001b[0m \u001b[1;34m\"value\"\u001b[0m\u001b[1;33m:\u001b[0m \u001b[0mvalue\u001b[0m\u001b[1;33m}\u001b[0m\u001b[1;33m)\u001b[0m\u001b[1;33m[\u001b[0m\u001b[1;34m\"value\"\u001b[0m\u001b[1;33m]\u001b[0m\u001b[1;33m\u001b[0m\u001b[1;33m\u001b[0m\u001b[0m\n\u001b[0m\u001b[0;32m    832\u001b[0m \u001b[1;33m\u001b[0m\u001b[0m\n\u001b[0;32m    833\u001b[0m     \u001b[1;32mdef\u001b[0m \u001b[0mfind_elements\u001b[0m\u001b[1;33m(\u001b[0m\u001b[0mself\u001b[0m\u001b[1;33m,\u001b[0m \u001b[0mby\u001b[0m\u001b[1;33m=\u001b[0m\u001b[0mBy\u001b[0m\u001b[1;33m.\u001b[0m\u001b[0mID\u001b[0m\u001b[1;33m,\u001b[0m \u001b[0mvalue\u001b[0m\u001b[1;33m:\u001b[0m \u001b[0mOptional\u001b[0m\u001b[1;33m[\u001b[0m\u001b[0mstr\u001b[0m\u001b[1;33m]\u001b[0m \u001b[1;33m=\u001b[0m \u001b[1;32mNone\u001b[0m\u001b[1;33m)\u001b[0m \u001b[1;33m->\u001b[0m \u001b[0mList\u001b[0m\u001b[1;33m[\u001b[0m\u001b[0mWebElement\u001b[0m\u001b[1;33m]\u001b[0m\u001b[1;33m:\u001b[0m\u001b[1;33m\u001b[0m\u001b[1;33m\u001b[0m\u001b[0m\n",
      "\u001b[1;32mc:\\Users\\user\\anaconda3\\lib\\site-packages\\selenium\\webdriver\\remote\\webdriver.py\u001b[0m in \u001b[0;36mexecute\u001b[1;34m(self, driver_command, params)\u001b[0m\n\u001b[0;32m    438\u001b[0m         \u001b[0mresponse\u001b[0m \u001b[1;33m=\u001b[0m \u001b[0mself\u001b[0m\u001b[1;33m.\u001b[0m\u001b[0mcommand_executor\u001b[0m\u001b[1;33m.\u001b[0m\u001b[0mexecute\u001b[0m\u001b[1;33m(\u001b[0m\u001b[0mdriver_command\u001b[0m\u001b[1;33m,\u001b[0m \u001b[0mparams\u001b[0m\u001b[1;33m)\u001b[0m\u001b[1;33m\u001b[0m\u001b[1;33m\u001b[0m\u001b[0m\n\u001b[0;32m    439\u001b[0m         \u001b[1;32mif\u001b[0m \u001b[0mresponse\u001b[0m\u001b[1;33m:\u001b[0m\u001b[1;33m\u001b[0m\u001b[1;33m\u001b[0m\u001b[0m\n\u001b[1;32m--> 440\u001b[1;33m             \u001b[0mself\u001b[0m\u001b[1;33m.\u001b[0m\u001b[0merror_handler\u001b[0m\u001b[1;33m.\u001b[0m\u001b[0mcheck_response\u001b[0m\u001b[1;33m(\u001b[0m\u001b[0mresponse\u001b[0m\u001b[1;33m)\u001b[0m\u001b[1;33m\u001b[0m\u001b[1;33m\u001b[0m\u001b[0m\n\u001b[0m\u001b[0;32m    441\u001b[0m             \u001b[0mresponse\u001b[0m\u001b[1;33m[\u001b[0m\u001b[1;34m\"value\"\u001b[0m\u001b[1;33m]\u001b[0m \u001b[1;33m=\u001b[0m \u001b[0mself\u001b[0m\u001b[1;33m.\u001b[0m\u001b[0m_unwrap_value\u001b[0m\u001b[1;33m(\u001b[0m\u001b[0mresponse\u001b[0m\u001b[1;33m.\u001b[0m\u001b[0mget\u001b[0m\u001b[1;33m(\u001b[0m\u001b[1;34m\"value\"\u001b[0m\u001b[1;33m,\u001b[0m \u001b[1;32mNone\u001b[0m\u001b[1;33m)\u001b[0m\u001b[1;33m)\u001b[0m\u001b[1;33m\u001b[0m\u001b[1;33m\u001b[0m\u001b[0m\n\u001b[0;32m    442\u001b[0m             \u001b[1;32mreturn\u001b[0m \u001b[0mresponse\u001b[0m\u001b[1;33m\u001b[0m\u001b[1;33m\u001b[0m\u001b[0m\n",
      "\u001b[1;32mc:\\Users\\user\\anaconda3\\lib\\site-packages\\selenium\\webdriver\\remote\\errorhandler.py\u001b[0m in \u001b[0;36mcheck_response\u001b[1;34m(self, response)\u001b[0m\n\u001b[0;32m    243\u001b[0m                 \u001b[0malert_text\u001b[0m \u001b[1;33m=\u001b[0m \u001b[0mvalue\u001b[0m\u001b[1;33m[\u001b[0m\u001b[1;34m\"alert\"\u001b[0m\u001b[1;33m]\u001b[0m\u001b[1;33m.\u001b[0m\u001b[0mget\u001b[0m\u001b[1;33m(\u001b[0m\u001b[1;34m\"text\"\u001b[0m\u001b[1;33m)\u001b[0m\u001b[1;33m\u001b[0m\u001b[1;33m\u001b[0m\u001b[0m\n\u001b[0;32m    244\u001b[0m             \u001b[1;32mraise\u001b[0m \u001b[0mexception_class\u001b[0m\u001b[1;33m(\u001b[0m\u001b[0mmessage\u001b[0m\u001b[1;33m,\u001b[0m \u001b[0mscreen\u001b[0m\u001b[1;33m,\u001b[0m \u001b[0mstacktrace\u001b[0m\u001b[1;33m,\u001b[0m \u001b[0malert_text\u001b[0m\u001b[1;33m)\u001b[0m  \u001b[1;31m# type: ignore[call-arg]  # mypy is not smart enough here\u001b[0m\u001b[1;33m\u001b[0m\u001b[1;33m\u001b[0m\u001b[0m\n\u001b[1;32m--> 245\u001b[1;33m         \u001b[1;32mraise\u001b[0m \u001b[0mexception_class\u001b[0m\u001b[1;33m(\u001b[0m\u001b[0mmessage\u001b[0m\u001b[1;33m,\u001b[0m \u001b[0mscreen\u001b[0m\u001b[1;33m,\u001b[0m \u001b[0mstacktrace\u001b[0m\u001b[1;33m)\u001b[0m\u001b[1;33m\u001b[0m\u001b[1;33m\u001b[0m\u001b[0m\n\u001b[0m",
      "\u001b[1;31mNoSuchElementException\u001b[0m: Message: no such element: Unable to locate element: {\"method\":\"xpath\",\"selector\":\"//*[@id=\"login-modal\"]/div[2]\"}\n  (Session info: chrome=113.0.5672.127)\nStacktrace:\nBacktrace:\n\tGetHandleVerifier [0x00308893+48451]\n\t(No symbol) [0x0029B8A1]\n\t(No symbol) [0x001A5058]\n\t(No symbol) [0x001D0467]\n\t(No symbol) [0x001D069B]\n\t(No symbol) [0x001FDD92]\n\t(No symbol) [0x001EA304]\n\t(No symbol) [0x001FC482]\n\t(No symbol) [0x001EA0B6]\n\t(No symbol) [0x001C7E08]\n\t(No symbol) [0x001C8F2D]\n\tGetHandleVerifier [0x00568E3A+2540266]\n\tGetHandleVerifier [0x005A8959+2801161]\n\tGetHandleVerifier [0x005A295C+2776588]\n\tGetHandleVerifier [0x00392280+612144]\n\t(No symbol) [0x002A4F6C]\n\t(No symbol) [0x002A11D8]\n\t(No symbol) [0x002A12BB]\n\t(No symbol) [0x00294857]\n\tBaseThreadInitThunk [0x750F6BA9+25]\n\tRtlGetFullPathName_UEx [0x77318F9F+1215]\n\tRtlGetFullPathName_UEx [0x77318F6D+1165]\n\t(No symbol) [0x00000000]\n"
     ]
    }
   ],
   "source": [
    "time.sleep(5)\n",
    "\n",
    "#exit login bar\n",
    "ext = driver.find_element(By.XPATH, '//*[@id=\"login-modal\"]/div[2]')\n",
    "ext.click()\n",
    "\n",
    "time.sleep(2)\n",
    "\n",
    "#open profile\n",
    "element = driver.find_element(By.XPATH, //*[@id=\"main-content-video_detail\"]/div/div[2]/div[1]/div[2]/div/a[2]/span[1])\n",
    "element.click()\n",
    "\n",
    "time.sleep(2)"
   ]
  }
 ],
 "metadata": {
  "kernelspec": {
   "display_name": "Python 3 (ipykernel)",
   "language": "python",
   "name": "python3"
  },
  "language_info": {
   "codemirror_mode": {
    "name": "ipython",
    "version": 3
   },
   "file_extension": ".py",
   "mimetype": "text/x-python",
   "name": "python",
   "nbconvert_exporter": "python",
   "pygments_lexer": "ipython3",
   "version": "3.9.13"
  }
 },
 "nbformat": 4,
 "nbformat_minor": 5
}
