{
 "cells": [
  {
   "cell_type": "code",
   "execution_count": 1,
   "id": "0f2392ea-c30e-4da6-af1f-57ed57300392",
   "metadata": {},
   "outputs": [],
   "source": [
    "import pandas as pd\n",
    "import numpy as np\n",
    "import matplotlib.pylab as plt\n",
    "import requests\n",
    "import shutil\n",
    "import bs4\n",
    "from selenium import webdriver\n",
    "from selenium.webdriver import ActionChains\n",
    "from selenium.webdriver.common.by import By\n",
    "import pyautogui\n",
    "import cv2\n",
    "import time"
   ]
  },
  {
   "cell_type": "code",
   "execution_count": 45,
   "id": "2d95a454-1593-46e8-aa0c-715e04c18aea",
   "metadata": {},
   "outputs": [
    {
     "name": "stderr",
     "output_type": "stream",
     "text": [
      "C:\\Users\\Public\\Documents\\iSkysoft\\CreatorTemp\\ipykernel_35124\\759455969.py:2: DeprecationWarning: executable_path has been deprecated, please pass in a Service object\n",
      "  driver = webdriver.Chrome(PATH)\n"
     ]
    }
   ],
   "source": [
    "PATH = \"C:\\chromedriver_win32\\chromedriver.exe\"\n",
    "driver = webdriver.Chrome(PATH)\n",
    "\n",
    "\n",
    "\n",
    "#url that you want to scrape\n",
    "link = 'https://www.tiktok.com/@dogcat_0327/video/7235928874238954794'\n",
    "\n",
    "#open and maximize window\n",
    "driver.get(link)\n",
    "driver.maximize_window()\n",
    "\n",
    "time.sleep(6) #nanti diganti tunggunya sampai captha nya nge load\n",
    "\n",
    "#CAPTCHA SOLVER\n",
    "#download image function\n",
    "def down(image, xpath):\n",
    "    #get link image\n",
    "    captcha = driver.find_element (By.XPATH, xpath)\n",
    "    src = captcha.get_attribute('src')\n",
    "\n",
    "    #download image\n",
    "    response = requests.get(src, stream=True)\n",
    "    with open(image, 'wb') as out_file:\n",
    "        shutil.copyfileobj(response.raw, out_file)\n",
    "    del response\n",
    "\n",
    "#download captcha image\n",
    "down('captcha_img.jpeg', \"//*[@id='captcha-verify-image']\")\n",
    "#download piece of captcha image\n",
    "down('captcha_piece.jpeg', \"//*[@id='tiktok-verify-ele']/div/div[2]/img[2]\")\n",
    "\n",
    "time.sleep(2)\n",
    "\n",
    "#read img\n",
    "img = cv2.imread('captcha_img.jpeg')\n",
    "img_piece = cv2.imread('captcha_piece.jpeg')\n",
    "\n",
    "#CONTOURS FUNCTION\n",
    "def bin_img(image):\n",
    "    img = cv2.imread(image)\n",
    "    img_gray = cv2.cvtColor(img, cv2.COLOR_BGR2GRAY)\n",
    "\n",
    "    binary_img = cv2.threshold(img_gray, 242, 255, cv2.THRESH_BINARY_INV)[1]\n",
    "\n",
    "    return binary_img\n",
    "\n",
    "capt = bin_img('captcha_img.jpeg')\n",
    "piece = bin_img('captcha_piece.jpeg')\n",
    "\n",
    "#matching shape\n",
    "match = cv2.matchTemplate(capt, piece, cv2.TM_CCOEFF_NORMED)\n",
    "\n",
    "#check x, y in maximum value\n",
    "min_val, max_val, min_loc, max_loc = cv2.minMaxLoc(match)\n",
    "\n",
    "#width and height\n",
    "w = piece.shape[1]\n",
    "h = piece.shape[0]\n",
    "\n",
    "#drag slider with mouse movement\n",
    "time.sleep(2)\n",
    "\n",
    "#gerakin mouse ke slider button\n",
    "pyautogui.moveTo(782, 722, duration=1.5)\n",
    "\n",
    "#drag mouse ke puzzle pece yang benar\n",
    "pyautogui.dragRel((0.78*max_loc[0]), 0, button='left', duration=2)\n",
    "\n",
    "time.sleep(5)\n",
    "\n",
    "#exit login bar\n",
    "ext = driver.find_element(By.XPATH, '//*[@id=\"login-modal\"]/div[2]')\n",
    "ext.click()\n",
    "\n",
    "time.sleep(2)\n",
    "\n",
    "#open profile\n",
    "#profile = driver.find_element(By.XPATH, '//*[@id=\"main-content-video_detail\"]/div/div[2]/div[1]/div[2]/div/a[2]/span[1]')\n",
    "#profile.click()\n",
    "\n",
    "#time.sleep(2)"
   ]
  },
  {
   "attachments": {},
   "cell_type": "markdown",
   "id": "6e351283",
   "metadata": {},
   "source": [
    "### 2nd step testing"
   ]
  },
  {
   "cell_type": "code",
   "execution_count": 47,
   "id": "fc66663c",
   "metadata": {},
   "outputs": [],
   "source": [
    "links = []#dibawah\n",
    "title = []#dibawah\n",
    "username = []\n",
    "likes = []\n",
    "views = []#dibawah\n",
    "comment = []\n",
    "share = []\n",
    "\n",
    "#find username\n",
    "xpath_username= '//*[@id=\"main-content-video_detail\"]/div/div[2]/div[1]/div[2]/div/a[2]/span[1]'\n",
    "link_username = driver.find_element(By.XPATH, xpath_username)\n",
    "get_link_username = link_username.text\n",
    "#find likes\n",
    "xpath_likes = '//*[@id=\"main-content-video_detail\"]/div/div[2]/div[1]/div[1]/div[1]/div[4]/div/button[1]/strong'\n",
    "link_likes = driver.find_element(By.XPATH, xpath_likes)\n",
    "get_link_likes = link_likes.text\n",
    "#find comment\n",
    "xpath_comment = '//*[@id=\"main-content-video_detail\"]/div/div[2]/div[1]/div[1]/div[1]/div[4]/div/button[2]/strong'\n",
    "link_comment = driver.find_element(By.XPATH, xpath_comment)\n",
    "get_link_comment = link_comment.text\n",
    "#find share\n",
    "xpath_share = '//*[@id=\"main-content-video_detail\"]/div/div[2]/div[1]/div[1]/div[1]/div[4]/div/button[3]/strong'\n",
    "link_share = driver.find_element(By.XPATH, xpath_share)\n",
    "get_link_share = link_share.text\n",
    "\n",
    "\n",
    "#adding info to list\n",
    "username.append(get_link_username)\n",
    "likes.append(get_link_likes)\n",
    "comment.append(get_link_comment)\n",
    "share.append(get_link_share)"
   ]
  },
  {
   "cell_type": "code",
   "execution_count": 49,
   "id": "6365a778",
   "metadata": {},
   "outputs": [
    {
     "name": "stdout",
     "output_type": "stream",
     "text": [
      "727\n"
     ]
    }
   ],
   "source": [
    "#open profile\n",
    "profile = driver.find_element(By.XPATH, '//*[@id=\"main-content-video_detail\"]/div/div[2]/div[1]/div[2]/div/a[2]/span[1]')\n",
    "profile.click()\n",
    "\n",
    "time.sleep(2)\n",
    "\n",
    "#scroll to the bottom\n",
    "previous_height = driver.execute_script('return document.body.scrollHeight')\n",
    "\n",
    "while True:\n",
    "    driver.execute_script('window.scrollTo(0, document.body.scrollHeight)')\n",
    "    time.sleep(3)\n",
    "    new_height = driver.execute_script('return document.body.scrollHeight')\n",
    "    \n",
    "    if new_height == previous_height:\n",
    "        break\n",
    "    previous_height = new_height\n",
    "\n",
    "#scroll to the top\n",
    "driver.execute_script('window.scrollTo(0, 0)')\n",
    "\n",
    "#take the html source\n",
    "page_html = driver.page_source\n",
    "page_soup = bs4.BeautifulSoup(page_html, 'html.parser')\n",
    "#find all content\n",
    "content = page_soup.find_all('div', {'class':\"tiktok-x6y88p-DivItemContainerV2 e19c29qe7\"})\n",
    "\n",
    "len_content = len(content)\n",
    "print(len_content)"
   ]
  },
  {
   "cell_type": "code",
   "execution_count": 53,
   "id": "c8f11054",
   "metadata": {},
   "outputs": [],
   "source": [
    "#start and pause the video\n",
    "pyautogui.moveTo(367, 1002, duration=1)\n",
    "pyautogui.click()\n",
    "time.sleep(2)\n",
    "pyautogui.click()\n",
    "\n",
    "time.sleep(2)"
   ]
  },
  {
   "cell_type": "code",
   "execution_count": 50,
   "id": "8d5365ea",
   "metadata": {},
   "outputs": [],
   "source": [
    "for j in range(1, len_content+1):\n",
    "    #find url\n",
    "    xpath_url = f'//*[@id=\"main-content-others_homepage\"]/div/div[2]/div[2]/div/div[{j}]/div[1]/div/div/a'\n",
    "    link_url = driver.find_element(By.XPATH, xpath_url)\n",
    "    get_link_url = link_url.get_attribute('href')\n",
    "\n",
    "    if get_link_url != link:\n",
    "        continue\n",
    "    #find views\n",
    "    xpath_views = f'//*[@id=\"main-content-others_homepage\"]/div/div[2]/div[2]/div/div[{j}]/div[1]/div/div/a/div/div[2]/strong'\n",
    "    link_views = driver.find_element(By.XPATH, xpath_views)\n",
    "    get_link_views = link_views.text\n",
    "    #find title\n",
    "    xpath_title = f'//*[@id=\"main-content-others_homepage\"]/div/div[2]/div[2]/div/div[{j}]/div[2]/a'\n",
    "    link_title = driver.find_element(By.XPATH, xpath_title)\n",
    "    get_link_title = link_title.get_attribute('title')\n",
    "\n",
    "    #adding info\n",
    "    links.append(get_link_url)\n",
    "    title.append(get_link_title)\n",
    "    views.append(get_link_views)\n",
    "\n",
    "    break"
   ]
  },
  {
   "cell_type": "code",
   "execution_count": null,
   "id": "c2f11d38",
   "metadata": {},
   "outputs": [],
   "source": [
    "#//*[@id=\"main-content-others_homepage\"]/div/div[2]/div[2]/div/div[1]/div[2]/a\n",
    "#//*[@id=\"main-content-others_homepage\"]/div/div[2]/div[2]/div/div[2]/div[2]/a"
   ]
  },
  {
   "cell_type": "code",
   "execution_count": 51,
   "id": "3874dcba",
   "metadata": {},
   "outputs": [
    {
     "name": "stdout",
     "output_type": "stream",
     "text": [
      "['https://www.tiktok.com/@dogcat_0327/video/7235928874238954794']\n",
      "['#dog #cute #pet #foryou #funnyvideos #fypシ #trending ']\n",
      "['dogcat_0327']\n",
      "['456']\n",
      "['18.5K']\n",
      "['4']\n",
      "['23']\n"
     ]
    }
   ],
   "source": [
    "print(links)\n",
    "print(title)\n",
    "print(username)\n",
    "print(likes)\n",
    "print(views)\n",
    "print(comment)\n",
    "print(share)"
   ]
  },
  {
   "cell_type": "code",
   "execution_count": 31,
   "id": "40cef226",
   "metadata": {},
   "outputs": [
    {
     "name": "stdout",
     "output_type": "stream",
     "text": [
      "Press Ctrl-C to quit.\n",
      "X:  367 Y: 1002 RGB: (  0,   0,   X:  367 Y: 1002 RGB: (  0,   0,   X:  367 Y: 1002 RGB: (  0,   0,   X:  367 Y: 1002 RGB: (  0,   0,   X:  367 Y: 1002 RGB: (  0,   0,   X:  367 Y: 1002 RGB: (  0,   0,   X:  367 Y: 1002 RGB: (  0,   0,   X:  367 Y: 1002 RGB: (  0,   0,   X:  367 Y: 1002 RGB: (  0,   0,   X:  367 Y: 1002 RGB: (  0,   0,   X:  367 Y: 1002 RGB: (  0,   0,   X:  367 Y: 1002 RGB: (  0,   0,   X:  367 Y: 1002 RGB: (  0,   0,   X:  367 Y: 1002 RGB: (  0,   0,   X:  367 Y: 1002 RGB: (  0,   0,   X:  367 Y: 1002 RGB: (  0,   0,   X:  367 Y: 1002 RGB: (  0,   0,   X:  367 Y: 1002 RGB: (  0,   0,   X:  367 Y: 1002 RGB: (  0,   0,   X:  367 Y: 1002 RGB: (  0,   0,   X:  367 Y: 1002 RGB: (  0,   0,   X:  367 Y: 1002 RGB: (  0,   0,   X:  367 Y: 1002 RGB: (  0,   0,   X:  367 Y: 1002 RGB: (  0,   0,   X:  367 Y: 1002 RGB: (  0,   0,   X:  367 Y: 1002 RGB: (  0,   0,   X:  367 Y: 1002 RGB: (  0,   0,   X:  367 Y: 1002 RGB: (  0,   0,   X:  367 Y: 1002 RGB: (  0,   0,   X:  367 Y: 1002 RGB: (  0,   0,   X:  367 Y: 1002 RGB: (  0,   0,   X:  367 Y: 1002 RGB: (  0,   0,   X:  367 Y: 1002 RGB: (  0,   0,   X:  367 Y: 1002 RGB: (  0,   0,   X:  367 Y: 1002 RGB: (  0,   0,   X:  367 Y: 1002 RGB: ( 24,  24,  2X:  367 Y: 1002 RGB: ( 24,  24,  2X:  367 Y: 1002 RGB: ( 24,  24,  2X:  367 Y: 1002 RGB: ( 24,  24,  2X:  367 Y: 1002 RGB: ( 24,  24,  2X:  367 Y: 1002 RGB: ( 24,  24,  2X:  367 Y: 1002 RGB: ( 24,  24,  2X:  367 Y: 1002 RGB: ( 24,  24,  2X:  367 Y: 1002 RGB: ( 24,  24,  2X:  367 Y: 1002 RGB: ( 24,  24,  2X:  367 Y: 1001 RGB: ( 24,  24,  2X:  366 Y:  957 RGB: ( 24,  24,  2X:  362 Y:  947 RGB: ( 24,  24,  2X:  362 Y:  946 RGB: ( 24,  24,  2X:  362 Y:  946 RGB: ( 24,  24,  2X:  362 Y:  946 RGB: ( 24,  24,  2X:  362 Y:  946 RGB: ( 24,  24,  2X:  367 Y:  930 RGB: ( 59, 142, 23X:  425 Y:  817 RGB: ( 24,  24,  2X:  476 Y:  774 RGB: ( 31,  31,  3X:  528 Y:  769 RGB: ( 31,  31,  3X:  576 Y:  779 RGB: ( 31,  31,  3X:  646 Y:  731 RGB: ( 31,  31,  3X:  697 Y:  704 RGB: ( 24,  24,  2X:  635 Y:  710 RGB: ( 24,  24,  2X:  590 Y:  715 RGB: ( 24,  24,  2X:  590 Y:  715 RGB: ( 24,  24,  2X:  586 Y:  702 RGB: ( 24,  24,  2X:  582 Y:  690 RGB: (204, 204, 20X:  580 Y:  682 RGB: ( 24,  24,  2X:  580 Y:  682 RGB: ( 24,  24,  2X:  580 Y:  680 RGB: ( 24,  24,  2X:  580 Y:  680 RGB: ( 24,  24,  2X:  580 Y:  679 RGB: ( 24,  24,  2X:  580 Y:  676 RGB: ( 24,  24,  2X:  580 Y:  676 RGB: ( 24,  24,  2X:  580 Y:  677 RGB: ( 24,  24,  2X:  580 Y:  677 RGB: ( 24,  24,  2X:  580 Y:  678 RGB: ( 24,  24,  2X:  580 Y:  682 RGB: ( 24,  24,  2X:  614 Y:  657 RGB: ( 24,  24,  2X:  616 Y:  658 RGB: ( 24,  24,  2X:  616 Y:  658 RGB: ( 24,  24,  2X:  616 Y:  658 RGB: ( 24,  24,  2X:  616 Y:  658 RGB: ( 24,  24,  2X:  616 Y:  658 RGB: ( 24,  24,  2X:  616 Y:  658 RGB: ( 24,  24,  2X:  616 Y:  658 RGB: ( 24,  24,  2X:  616 Y:  658 RGB: ( 24,  24,  2X:  616 Y:  658 RGB: ( 24,  24,  2X:  616 Y:  658 RGB: ( 24,  24,  2X:  616 Y:  658 RGB: ( 24,  24,  2X:  616 Y:  658 RGB: ( 24,  24,  2X:  616 Y:  658 RGB: ( 24,  24,  2X:  616 Y:  658 RGB: ( 24,  24,  2X:  616 Y:  658 RGB: ( 24,  24,  2X:  616 Y:  658 RGB: ( 24,  24,  2X:  616 Y:  658 RGB: ( 24,  24,  2X:  616 Y:  658 RGB: ( 24,  24,  2X:  616 Y:  658 RGB: ( 24,  24,  2X:  616 Y:  658 RGB: ( 24,  24,  2X:  616 Y:  658 RGB: ( 24,  24,  2X:  616 Y:  658 RGB: ( 24,  24,  2X:  616 Y:  658 RGB: ( 24,  24,  2X:  616 Y:  658 RGB: ( 24,  24,  2X:  616 Y:  658 RGB: ( 24,  24,  2X:  616 Y:  658 RGB: ( 24,  24,  2X:  616 Y:  658 RGB: ( 24,  24,  2X:  616 Y:  658 RGB: ( 24,  24,  2X:  616 Y:  658 RGB: ( 24,  24,  2X:  616 Y:  658 RGB: ( 24,  24,  2X:  616 Y:  658 RGB: ( 24,  24,  2X:  616 Y:  658 RGB: ( 24,  24,  2X:  616 Y:  658 RGB: ( 24,  24,  2X:  616 Y:  658 RGB: ( 24,  24,  2X:  616 Y:  658 RGB: ( 24,  24,  2X:  616 Y:  658 RGB: ( 24,  24,  2X:  616 Y:  658 RGB: ( 24,  24,  2X:  616 Y:  658 RGB: ( 24,  24,  2X:  616 Y:  658 RGB: ( 24,  24,  2X:  616 Y:  658 RGB: ( 24,  24,  2X:  616 Y:  658 RGB: ( 24,  24,  2X:  616 Y:  658 RGB: ( 24,  24,  2X:  616 Y:  658 RGB: ( 24,  24,  2X:  616 Y:  658 RGB: ( 24,  24,  2X:  616 Y:  658 RGB: ( 24,  24,  2X:  616 Y:  658 RGB: ( 24,  24,  2X:  616 Y:  658 RGB: ( 24,  24,  2X:  616 Y:  658 RGB: ( 24,  24,  2X:  616 Y:  658 RGB: ( 24,  24,  2X:  616 Y:  658 RGB: ( 24,  24,  2X:  616 Y:  658 RGB: ( 24,  24,  2X:  616 Y:  658 RGB: ( 24,  24,  2X:  616 Y:  658 RGB: ( 24,  24,  2X:  616 Y:  658 RGB: ( 24,  24,  2X:  616 Y:  658 RGB: ( 24,  24,  2X:  616 Y:  658 RGB: ( 24,  24,  2X:  616 Y:  658 RGB: ( 24,  24,  2X:  616 Y:  658 RGB: ( 24,  24,  2X:  616 Y:  658 RGB: ( 24,  24,  2X:  616 Y:  658 RGB: ( 24,  24,  2X:  616 Y:  658 RGB: ( 24,  24,  2X:  616 Y:  658 RGB: ( 24,  24,  2X:  616 Y:  658 RGB: ( 24,  24,  2X:  616 Y:  658 RGB: ( 24,  24,  2X:  616 Y:  658 RGB: ( 24,  24,  2X:  616 Y:  658 RGB: ( 24,  24,  2X:  616 Y:  658 RGB: ( 24,  24,  2X:  616 Y:  658 RGB: ( 24,  24,  2X:  616 Y:  658 RGB: ( 24,  24,  2X:  616 Y:  658 RGB: ( 24,  24,  2X:  616 Y:  658 RGB: ( 24,  24,  2X:  616 Y:  658 RGB: ( 24,  24,  2X:  616 Y:  658 RGB: ( 24,  24,  2X:  616 Y:  658 RGB: ( 24,  24,  2X:  616 Y:  658 RGB: ( 24,  24,  2X:  616 Y:  658 RGB: ( 24,  24,  2X:  616 Y:  658 RGB: ( 24,  24,  2X:  616 Y:  658 RGB: ( 24,  24,  2X:  616 Y:  658 RGB: ( 24,  24,  2X:  616 Y:  658 RGB: ( 24,  24,  2X:  616 Y:  658 RGB: ( 24,  24,  2X:  616 Y:  658 RGB: ( 24,  24,  2X:  616 Y:  658 RGB: ( 24,  24,  2X:  616 Y:  658 RGB: ( 24,  24,  2X:  616 Y:  658 RGB: ( 24,  24,  2X:  616 Y:  658 RGB: ( 24,  24,  2X:  616 Y:  658 RGB: ( 24,  24,  2X:  616 Y:  658 RGB: ( 24,  24,  2X:  616 Y:  658 RGB: ( 24,  24,  2X:  615 Y:  659 RGB: ( 24,  24,  2X:  573 Y:  679 RGB: ( 24,  24,  2X:  573 Y:  680 RGB: ( 24,  24,  2X:  501 Y:  545 RGB: ( 31,  31,  3X:  450 Y:  490 RGB: ( 24,  24,  2X:  370 Y:  415 RGB: ( 24,  24,  2X:  335 Y:  390 RGB: ( 31,  31,  3X:  330 Y:  383 RGB: ( 31,  31,  3X:  329 Y:  383 RGB: ( 31,  31,  3X:  328 Y:  385 RGB: ( 31,  31,  3X:  321 Y:  405 RGB: ( 31,  31,  3X:  321 Y:  410 RGB: ( 62,  64,  6X:  321 Y:  411 RGB: ( 62,  64,  6X:  321 Y:  413 RGB: ( 62,  64,  6X:  321 Y:  413 RGB: ( 62,  64,  6X:  321 Y:  413 RGB: ( 62,  64,  6X:  321 Y:  413 RGB: ( 62,  64,  6\n"
     ]
    }
   ],
   "source": [
    "time.sleep(2)\n",
    "pyautogui.displayMousePosition()"
   ]
  },
  {
   "cell_type": "code",
   "execution_count": 34,
   "id": "4e6187e6",
   "metadata": {},
   "outputs": [],
   "source": [
    "#start and pause the video\n",
    "time.sleep(2)\n",
    "pyautogui.moveTo(367, 1002, duration=1)\n",
    "pyautogui.click()\n",
    "time.sleep(2)\n",
    "pyautogui.click()"
   ]
  },
  {
   "cell_type": "code",
   "execution_count": null,
   "id": "1472f53f",
   "metadata": {},
   "outputs": [],
   "source": []
  },
  {
   "attachments": {},
   "cell_type": "markdown",
   "id": "83718e76",
   "metadata": {},
   "source": [
    "# coret2an"
   ]
  },
  {
   "cell_type": "code",
   "execution_count": 20,
   "id": "58a8b6e0",
   "metadata": {},
   "outputs": [
    {
     "data": {
      "text/plain": [
       "'https://www.tiktok.com/@dndalstri._/video/7233570284572249370'"
      ]
     },
     "execution_count": 20,
     "metadata": {},
     "output_type": "execute_result"
    }
   ],
   "source": [
    "#untuk membersihkan link yg di profile sebelum disamakan dengan link yg kita punya\n",
    "c = 'https://www.tiktok.com/@dndalstri._/video/7233570284572249370?is_from_webapp=1&sender_device=pc&web_id=7205425525594031618'\n",
    "c[:c.find('?')]"
   ]
  }
 ],
 "metadata": {
  "kernelspec": {
   "display_name": "Python 3 (ipykernel)",
   "language": "python",
   "name": "python3"
  },
  "language_info": {
   "codemirror_mode": {
    "name": "ipython",
    "version": 3
   },
   "file_extension": ".py",
   "mimetype": "text/x-python",
   "name": "python",
   "nbconvert_exporter": "python",
   "pygments_lexer": "ipython3",
   "version": "3.9.13"
  }
 },
 "nbformat": 4,
 "nbformat_minor": 5
}
