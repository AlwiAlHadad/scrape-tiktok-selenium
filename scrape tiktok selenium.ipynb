{
 "cells": [
  {
   "cell_type": "code",
   "execution_count": 18,
   "id": "0f2392ea-c30e-4da6-af1f-57ed57300392",
   "metadata": {},
   "outputs": [],
   "source": [
    "import pandas as pd\n",
    "import numpy as np\n",
    "import requests\n",
    "import shutil\n",
    "import bs4\n",
    "from selenium import webdriver\n",
    "from selenium.webdriver import ActionChains\n",
    "from selenium.webdriver.common.by import By\n",
    "import cv2\n",
    "import time"
   ]
  },
  {
   "cell_type": "code",
   "execution_count": 19,
   "id": "aaaa2e88",
   "metadata": {},
   "outputs": [],
   "source": [
    "#import excel untuk link tiktok\n",
    "df_link = pd.read_excel('link tiktok.xlsx')"
   ]
  },
  {
   "cell_type": "code",
   "execution_count": 23,
   "id": "2d95a454-1593-46e8-aa0c-715e04c18aea",
   "metadata": {},
   "outputs": [
    {
     "name": "stderr",
     "output_type": "stream",
     "text": [
      "C:\\Users\\Public\\Documents\\iSkysoft\\CreatorTemp\\ipykernel_15552\\978589085.py:2: DeprecationWarning: executable_path has been deprecated, please pass in a Service object\n",
      "  driver = webdriver.Chrome(PATH)\n"
     ]
    },
    {
     "name": "stdout",
     "output_type": "stream",
     "text": [
      "<selenium.webdriver.remote.webelement.WebElement (session=\"c4e8d19c60a39b3870abc2314661ea92\", element=\"C4CC64C5BD76BFDBC31038122C3699F4_element_58\")>\n"
     ]
    }
   ],
   "source": [
    "PATH = \"C:\\chromedriver_win32\\chromedriver.exe\"\n",
    "driver = webdriver.Chrome(PATH)\n",
    "\n",
    "\n",
    "\n",
    "#ambil url yang ingin di scrape\n",
    "link = 'https://www.tiktok.com/@dogcat_0327/video/7207585274312871211'\n",
    "\n",
    "driver.get(link)\n",
    "\n",
    "time.sleep(20)\n",
    "#solver\n",
    "captcha = driver.find_element (By.XPATH,\"//*[@id='captcha-verify-image']\")\n",
    "#src = captcha.get_attribute('src')\n",
    "\n",
    "#response = requests.get(src, strem=True)\n",
    "#with open('img.jpeg', 'wb') as out_file:\n",
    "#    shutil.copyfileobj(response.raw, out_file)\n",
    "#del response\n",
    "\n",
    "#src = cv2.imread(captcha)\n",
    "\n"
   ]
  },
  {
   "cell_type": "code",
   "execution_count": null,
   "id": "7c6a5ead",
   "metadata": {},
   "outputs": [],
   "source": [
    "#export hasil scrape tiktok\n",
    "df_result.to_excel('hasil scrape data tiktok.xlsx', index=False)"
   ]
  },
  {
   "attachments": {},
   "cell_type": "markdown",
   "id": "83718e76",
   "metadata": {},
   "source": [
    "# coret2an"
   ]
  },
  {
   "cell_type": "code",
   "execution_count": 20,
   "id": "58a8b6e0",
   "metadata": {},
   "outputs": [
    {
     "data": {
      "text/plain": [
       "'https://www.tiktok.com/@dndalstri._/video/7233570284572249370'"
      ]
     },
     "execution_count": 20,
     "metadata": {},
     "output_type": "execute_result"
    }
   ],
   "source": [
    "#untuk membersihkan link yg di profile sebelum disamakan dengan link yg kita punya\n",
    "c = 'https://www.tiktok.com/@dndalstri._/video/7233570284572249370?is_from_webapp=1&sender_device=pc&web_id=7205425525594031618'\n",
    "c[:c.find('?')]"
   ]
  },
  {
   "attachments": {},
   "cell_type": "markdown",
   "id": "af497cfc",
   "metadata": {},
   "source": [
    "## Prototype"
   ]
  },
  {
   "cell_type": "code",
   "execution_count": null,
   "id": "e747d205",
   "metadata": {},
   "outputs": [],
   "source": [
    "PATH = \"C:\\chromedriver_win32\\chromedriver.exe\"\n",
    "driver = webdriver.Chrome(PATH)\n",
    "\n",
    "#list kosong\n",
    "link = []\n",
    "judul = []\n",
    "username = []\n",
    "likes = []\n",
    "views = []\n",
    "comment = []\n",
    "share = []\n",
    "\n",
    "#ambil url yang ingin di scrape\n",
    "for i in range(len(df_link.iloc[:,0])):\n",
    "    link = df_link.iloc[i,0]\n",
    "\n",
    "    driver.get(\"link\")\n",
    "\n",
    "    time.sleep(25)\n",
    "\n",
    "    #ada captcha solver nanti disini\n",
    "\n",
    "    time.sleep(2)\n",
    "\n",
    "    #exit login bar\n",
    "    ext = driver.find_element(By.XPATH, \"//*[@id='login-modal']/div[2]/svg\")\n",
    "    ext.click()\n",
    "\n",
    "    time.sleep(2)\n",
    "\n",
    "    #buka profile\n",
    "    element = driver.find_element(By.XPATH, \"//*[@id='main-content-video_detail']/div/div[2]/div[1]/div[2]/div/a[2]/span[1]\")\n",
    "    element.click()\n",
    "\n",
    "    time.sleep(2)\n",
    "    #looping didalem profile mereka samapi ketemu link yang sama\n",
    "    for j in range():\n",
    "        wad\n",
    "        \n",
    "\n",
    "#Hasil data yang di ambil\n",
    "df_result = pd.DataFrame(list(zip(link, judul, username, likes, views, comment, share)), columns=['link'. 'judul', 'username', 'likes', 'views', 'comment', 'share'])\n",
    "\n",
    "#driver.quit()"
   ]
  }
 ],
 "metadata": {
  "kernelspec": {
   "display_name": "Python 3 (ipykernel)",
   "language": "python",
   "name": "python3"
  },
  "language_info": {
   "codemirror_mode": {
    "name": "ipython",
    "version": 3
   },
   "file_extension": ".py",
   "mimetype": "text/x-python",
   "name": "python",
   "nbconvert_exporter": "python",
   "pygments_lexer": "ipython3",
   "version": "3.9.13"
  }
 },
 "nbformat": 4,
 "nbformat_minor": 5
}
