{
 "cells": [
  {
   "cell_type": "code",
   "execution_count": 3,
   "id": "0f2392ea-c30e-4da6-af1f-57ed57300392",
   "metadata": {},
   "outputs": [],
   "source": [
    "import pandas as pd\n",
    "import numpy as np\n",
    "import matplotlib.pylab as plt\n",
    "import requests\n",
    "import shutil\n",
    "import bs4\n",
    "from selenium import webdriver\n",
    "from selenium.webdriver import ActionChains\n",
    "from selenium.webdriver.common.by import By\n",
    "import pyautogui\n",
    "import cv2\n",
    "import time"
   ]
  },
  {
   "cell_type": "code",
   "execution_count": 214,
   "id": "2d95a454-1593-46e8-aa0c-715e04c18aea",
   "metadata": {},
   "outputs": [
    {
     "name": "stderr",
     "output_type": "stream",
     "text": [
      "C:\\Users\\Public\\Documents\\iSkysoft\\CreatorTemp\\ipykernel_12588\\618202606.py:2: DeprecationWarning: executable_path has been deprecated, please pass in a Service object\n",
      "  driver = webdriver.Chrome(PATH)\n"
     ]
    }
   ],
   "source": [
    "PATH = \"C:\\chromedriver_win32\\chromedriver.exe\"\n",
    "driver = webdriver.Chrome(PATH)\n",
    "\n",
    "\n",
    "\n",
    "#url that you want to scrape\n",
    "link = 'https://www.tiktok.com/@dogcat_0327/video/7207585274312871211'\n",
    "\n",
    "#open and maximize window\n",
    "driver.get(link)\n",
    "driver.maximize_window()\n",
    "\n",
    "time.sleep(6) #nanti diganti tunggunya sampai captha nya nge load\n",
    "\n",
    "#CAPTCHA SOLVER\n",
    "#download image function\n",
    "def down(image, xpath):\n",
    "    #ambil link image\n",
    "    captcha = driver.find_element (By.XPATH, xpath)\n",
    "    src = captcha.get_attribute('src')\n",
    "\n",
    "    #download image\n",
    "    response = requests.get(src, stream=True)\n",
    "    with open(image, 'wb') as out_file:\n",
    "        shutil.copyfileobj(response.raw, out_file)\n",
    "    del response\n",
    "\n",
    "#download captcha image\n",
    "down('captcha_img.jpeg', \"//*[@id='captcha-verify-image']\")\n",
    "#download piece of captcha image\n",
    "down('captcha_piece.jpeg', \"//*[@id='tiktok-verify-ele']/div/div[2]/img[2]\")\n",
    "\n"
   ]
  },
  {
   "cell_type": "code",
   "execution_count": 215,
   "id": "97918f91",
   "metadata": {},
   "outputs": [
    {
     "data": {
      "image/png": "[encoded data removed]",
      "text/plain": [
       "<Figure size 640x480 with 1 Axes>"
      ]
     },
     "metadata": {},
     "output_type": "display_data"
    }
   ],
   "source": [
    "#read img\n",
    "img = cv2.imread('captcha_img.jpeg')\n",
    "img_piece = cv2.imread('captcha_piece.jpeg')\n",
    "\n",
    "#CONTOURS FUNCTION\n",
    "def bin_img(image):\n",
    "    img = cv2.imread(image)\n",
    "    img_gray = cv2.cvtColor(img, cv2.COLOR_BGR2GRAY)\n",
    "\n",
    "    binary_img = cv2.threshold(img_gray, 242, 255, cv2.THRESH_BINARY_INV)[1]\n",
    "    plt.imshow(binary_img, cmap='gray')\n",
    "\n",
    "    return binary_img\n",
    "\n",
    "capt = bin_img('captcha_img.jpeg')\n",
    "piece = bin_img('captcha_piece.jpeg')\n",
    "\n",
    "#matching shape\n",
    "match = cv2.matchTemplate(capt, piece, cv2.TM_CCOEFF_NORMED)\n",
    "\n",
    "#check x, y in maximum value\n",
    "min_val, max_val, min_loc, max_loc = cv2.minMaxLoc(match)\n",
    "\n",
    "#width and height\n",
    "w = piece.shape[1]\n",
    "h = piece.shape[0]\n",
    "\n"
   ]
  },
  {
   "cell_type": "code",
   "execution_count": 216,
   "id": "63e9a15b",
   "metadata": {},
   "outputs": [],
   "source": [
    "#drag slider with mouse movement\n",
    "time.sleep(2)\n",
    "\n",
    "#gerakin mouse ke slider button\n",
    "pyautogui.moveTo(782, 722, duration=1.5)\n",
    "\n",
    "#drag mouse ke puzzle pece yang benar\n",
    "pyautogui.dragRel((0.78*max_loc[0]), 0, button='left', duration=2)"
   ]
  },
  {
   "attachments": {},
   "cell_type": "markdown",
   "id": "83718e76",
   "metadata": {},
   "source": [
    "# coret2an"
   ]
  },
  {
   "cell_type": "code",
   "execution_count": 20,
   "id": "58a8b6e0",
   "metadata": {},
   "outputs": [
    {
     "data": {
      "text/plain": [
       "'https://www.tiktok.com/@dndalstri._/video/7233570284572249370'"
      ]
     },
     "execution_count": 20,
     "metadata": {},
     "output_type": "execute_result"
    }
   ],
   "source": [
    "#untuk membersihkan link yg di profile sebelum disamakan dengan link yg kita punya\n",
    "c = 'https://www.tiktok.com/@dndalstri._/video/7233570284572249370?is_from_webapp=1&sender_device=pc&web_id=7205425525594031618'\n",
    "c[:c.find('?')]"
   ]
  },
  {
   "attachments": {},
   "cell_type": "markdown",
   "id": "af497cfc",
   "metadata": {},
   "source": [
    "## Prototype"
   ]
  },
  {
   "cell_type": "code",
   "execution_count": 89,
   "id": "aaaa2e88",
   "metadata": {},
   "outputs": [],
   "source": [
    "#import excel that contains tiktok link\n",
    "df_link = pd.read_excel('link tiktok.xlsx')"
   ]
  },
  {
   "cell_type": "code",
   "execution_count": null,
   "id": "e747d205",
   "metadata": {},
   "outputs": [],
   "source": [
    "PATH = \"C:\\chromedriver_win32\\chromedriver.exe\"\n",
    "driver = webdriver.Chrome(PATH)\n",
    "\n",
    "#empty list\n",
    "link = []\n",
    "judul = []\n",
    "username = []\n",
    "likes = []\n",
    "views = []\n",
    "comment = []\n",
    "share = []\n",
    "\n",
    "#ambil url yang ingin di scrape\n",
    "for i in range(len(df_link.iloc[:,0])):\n",
    "    link = df_link.iloc[i,0]\n",
    "\n",
    "    #open and maximize window\n",
    "    driver.get(link)\n",
    "    driver.maximize_window()\n",
    "\n",
    "    time.sleep(6)\n",
    "\n",
    "    #CAPTCHA SOLVER\n",
    "    #download image function\n",
    "    def down(image, xpath):\n",
    "        #ambil link image\n",
    "        captcha = driver.find_element (By.XPATH, xpath)\n",
    "        src = captcha.get_attribute('src')\n",
    "\n",
    "        #download image\n",
    "        response = requests.get(src, stream=True)\n",
    "        with open(image, 'wb') as out_file:\n",
    "            shutil.copyfileobj(response.raw, out_file)\n",
    "        del response\n",
    "\n",
    "    #download captcha image\n",
    "    down('captcha_img.jpeg', \"//*[@id='captcha-verify-image']\")\n",
    "    #download piece of captcha image\n",
    "    down('captcha_piece.jpeg', \"//*[@id='tiktok-verify-ele']/div/div[2]/img[2]\")\n",
    "\n",
    "    time.sleep(2)\n",
    "\n",
    "    #read img\n",
    "    img = cv2.imread('captcha_img.jpeg')\n",
    "    img_piece = cv2.imread('captcha_piece.jpeg')\n",
    "\n",
    "    #CONTOURS FUNCTION\n",
    "    def bin_img(image):\n",
    "        img = cv2.imread(image)\n",
    "        img_gray = cv2.cvtColor(img, cv2.COLOR_BGR2GRAY)\n",
    "\n",
    "        binary_img = cv2.threshold(img_gray, 242, 255, cv2.THRESH_BINARY_INV)[1]\n",
    "        plt.imshow(binary_img, cmap='gray')\n",
    "\n",
    "        return binary_img\n",
    "\n",
    "    capt = bin_img('captcha_img.jpeg')\n",
    "    piece = bin_img('captcha_piece.jpeg')\n",
    "\n",
    "    #matching shape\n",
    "    match = cv2.matchTemplate(capt, piece, cv2.TM_CCOEFF_NORMED)\n",
    "\n",
    "    #check x, y in maximum value\n",
    "    min_val, max_val, min_loc, max_loc = cv2.minMaxLoc(match)\n",
    "\n",
    "    #width and height\n",
    "    w = piece.shape[1]\n",
    "    h = piece.shape[0]\n",
    "\n",
    "    #drag slider with mouse movement\n",
    "    time.sleep(2)\n",
    "    #gerakin mouse ke slider button\n",
    "    pyautogui.moveTo(782, 722, duration=1.5)\n",
    "    #drag mouse ke puzzle pece yang benar\n",
    "    pyautogui.dragRel(0.78*max_loc[0], 0, button='left', duration=2)\n",
    "\n",
    "    time.sleep(2)\n",
    "\n",
    "    #exit login bar\n",
    "    ext = driver.find_element(By.XPATH, \"//*[@id='login-modal']/div[2]/svg\")\n",
    "    ext.click()\n",
    "\n",
    "    time.sleep(2)\n",
    "\n",
    "    #buka profile\n",
    "    element = driver.find_element(By.XPATH, \"//*[@id='main-content-video_detail']/div/div[2]/div[1]/div[2]/div/a[2]/span[1]\")\n",
    "    element.click()\n",
    "\n",
    "    time.sleep(2)\n",
    "    #nanti ada scroll down dulu sampai abis baru naek ke atas lagi setelah itu baru looping dalamnya\n",
    "\n",
    "    #looping didalem profile mereka samapi ketemu link yang sama\n",
    "    for j in range():\n",
    "        wad\n",
    "        \n",
    "\n",
    "#Hasil data yang di ambil\n",
    "df_result = pd.DataFrame(list(zip(link, judul, username, likes, views, comment, share)), columns=['link'. 'judul', 'username', 'likes', 'views', 'comment', 'share'])\n",
    "\n",
    "#keluar chrome\n",
    "#driver.quit()"
   ]
  },
  {
   "cell_type": "code",
   "execution_count": null,
   "id": "7c6a5ead",
   "metadata": {},
   "outputs": [],
   "source": [
    "#export hasil scrape tiktok\n",
    "df_result.to_excel('hasil scrape data tiktok.xlsx', index=False)"
   ]
  }
 ],
 "metadata": {
  "kernelspec": {
   "display_name": "Python 3 (ipykernel)",
   "language": "python",
   "name": "python3"
  },
  "language_info": {
   "codemirror_mode": {
    "name": "ipython",
    "version": 3
   },
   "file_extension": ".py",
   "mimetype": "text/x-python",
   "name": "python",
   "nbconvert_exporter": "python",
   "pygments_lexer": "ipython3",
   "version": "3.9.13"
  }
 },
 "nbformat": 4,
 "nbformat_minor": 5
}
