{
 "cells": [
  {
   "cell_type": "code",
   "execution_count": 15,
   "id": "0f2392ea-c30e-4da6-af1f-57ed57300392",
   "metadata": {},
   "outputs": [],
   "source": [
    "import pandas as pd\n",
    "import numpy as np\n",
    "from selenium import webdriver\n",
    "from selenium.webdriver import ActionChains\n",
    "import cv2\n",
    "import time"
   ]
  },
  {
   "cell_type": "code",
   "execution_count": 16,
   "id": "aaaa2e88",
   "metadata": {},
   "outputs": [],
   "source": [
    "#import excel untuk link tiktok\n",
    "df_link = pd.read_excel('link tiktok.xlsx')"
   ]
  },
  {
   "cell_type": "code",
   "execution_count": null,
   "id": "2d95a454-1593-46e8-aa0c-715e04c18aea",
   "metadata": {},
   "outputs": [],
   "source": [
    "PATH = \"C:\\chromedriver.exe\"\n",
    "driver = webdriver.Chrome(PATH)\n",
    "\n",
    "\n",
    "\n",
    "#ambil url yang ingin di scrape\n",
    "link = 'https://www.tiktok.com/@dogcat_0327/video/7207585274312871211'\n",
    "\n",
    "driver.get(link)\n",
    "print(driver.title)\n",
    "\n",
    "time.sleep(50)\n",
    "#solver\n",
    "#captcha = driver.find_element(By.XPATH, \"//input[@id='passwd-id']\")\n",
    "captcha = driver.find_element(By.XPATH, \"//*[@id='captcha-verify-image']\")\n",
    "image = cv2.imread(captcha)\n",
    "image\n"
   ]
  },
  {
   "cell_type": "code",
   "execution_count": null,
   "id": "7c6a5ead",
   "metadata": {},
   "outputs": [],
   "source": [
    "#export hasil scrape tiktok\n",
    "df_result.to_excel('hasil scrape data tiktok.xlsx', index=False)"
   ]
  },
  {
   "attachments": {},
   "cell_type": "markdown",
   "id": "83718e76",
   "metadata": {},
   "source": [
    "# coret2an"
   ]
  },
  {
   "cell_type": "code",
   "execution_count": 20,
   "id": "58a8b6e0",
   "metadata": {},
   "outputs": [
    {
     "data": {
      "text/plain": [
       "'https://www.tiktok.com/@dndalstri._/video/7233570284572249370'"
      ]
     },
     "execution_count": 20,
     "metadata": {},
     "output_type": "execute_result"
    }
   ],
   "source": [
    "#untuk membersihkan link yg di profile sebelum disamakan dengan link yg kita punya\n",
    "c = 'https://www.tiktok.com/@dndalstri._/video/7233570284572249370?is_from_webapp=1&sender_device=pc&web_id=7205425525594031618'\n",
    "c[:c.find('?')]"
   ]
  },
  {
   "attachments": {},
   "cell_type": "markdown",
   "id": "af497cfc",
   "metadata": {},
   "source": [
    "## Prototype"
   ]
  },
  {
   "cell_type": "code",
   "execution_count": 26,
   "id": "e747d205",
   "metadata": {},
   "outputs": [
    {
     "ename": "SyntaxError",
     "evalue": "invalid syntax (526415534.py, line 37)",
     "output_type": "error",
     "traceback": [
      "\u001b[1;36m  File \u001b[1;32m\"C:\\Users\\user\\AppData\\Local\\Temp\\ipykernel_1460\\526415534.py\"\u001b[1;36m, line \u001b[1;32m37\u001b[0m\n\u001b[1;33m    df_result = pd.DataFrame(list(zip(link, judul, username, likes, views, comment, share)), columns=['link'. 'judul', 'username', 'likes', 'views', 'comment', 'share'])\u001b[0m\n\u001b[1;37m                                                                                                              ^\u001b[0m\n\u001b[1;31mSyntaxError\u001b[0m\u001b[1;31m:\u001b[0m invalid syntax\n"
     ]
    }
   ],
   "source": [
    "PATH = \"C:\\chromedriver.exe\"\n",
    "driver = webdriver.Chrome(PATH)\n",
    "\n",
    "#list kosong\n",
    "link = []\n",
    "judul = []\n",
    "username = []\n",
    "likes = []\n",
    "views = []\n",
    "comment = []\n",
    "share = []\n",
    "\n",
    "#ambil url yang ingin di scrape\n",
    "for i in range(len(df_link.iloc[:,0])):\n",
    "    link = df_link.iloc[i,0]\n",
    "\n",
    "    driver.get(\"link\")\n",
    "    print(driver.title)\n",
    "\n",
    "    time.sleep(50)\n",
    "\n",
    "    #ada captcha solver nanti disini\n",
    "\n",
    "    #ada exit login bar nanti disini\n",
    "    ext = driver.find_element(By.XPATH, \"//*[@id='login-modal']/div[2]/svg\")\n",
    "    ext.click()\n",
    "\n",
    "    time.sleep(2)\n",
    "\n",
    "    #buka profile\n",
    "    element = driver.find_element(By.XPATH, \"//*[@id='main-content-video_detail']/div/div[2]/div[1]/div[2]/div/a[2]/span[1]\")\n",
    "    element.click()\n",
    "\n",
    "    time.sleep(2)\n",
    "    #looping didalem profile mereka samapi ketemu link yang sama\n",
    "    for j in range():\n",
    "        wad\n",
    "        \n",
    "\n",
    "#Hasil data yang di ambil\n",
    "df_result = pd.DataFrame(list(zip(link, judul, username, likes, views, comment, share)), columns=['link'. 'judul', 'username', 'likes', 'views', 'comment', 'share'])\n",
    "\n",
    "#driver.quit()"
   ]
  }
 ],
 "metadata": {
  "kernelspec": {
   "display_name": "Python 3 (ipykernel)",
   "language": "python",
   "name": "python3"
  },
  "language_info": {
   "codemirror_mode": {
    "name": "ipython",
    "version": 3
   },
   "file_extension": ".py",
   "mimetype": "text/x-python",
   "name": "python",
   "nbconvert_exporter": "python",
   "pygments_lexer": "ipython3",
   "version": "3.9.13"
  }
 },
 "nbformat": 4,
 "nbformat_minor": 5
}
